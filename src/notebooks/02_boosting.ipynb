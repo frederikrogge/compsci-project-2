{
 "cells": [
  {
   "cell_type": "code",
   "execution_count": 1,
   "id": "75a6655a",
   "metadata": {},
   "outputs": [],
   "source": [
    "from sklearn.ensemble import AdaBoostClassifier\n",
    "from sklearn.preprocessing import LabelEncoder\n",
    "from sklearn.tree import DecisionTreeClassifier\n",
    "import numpy as np\n",
    "# Import train_test_split function\n",
    "from sklearn.model_selection import train_test_split\n",
    "#Import scikit-learn metrics module for accuracy calculation\n",
    "from sklearn import metrics\n",
    "import statistics\n",
    "from sklearn.datasets import make_multilabel_classification"
   ]
  },
  {
   "cell_type": "code",
   "execution_count": 2,
   "id": "ecfb9d71",
   "metadata": {},
   "outputs": [],
   "source": [
    "# Load in the data\n",
    "dataset_1= np.load('KKL366_220124_deconvolved_data.npy', mmap_mode=None, allow_pickle=False, fix_imports=True, encoding='ASCII')\n",
    "dataset_2= np.load('KKL366_220124_dff-denoised_data.npy', mmap_mode=None, allow_pickle=False, fix_imports=True, encoding='ASCII')\n",
    "dataset_3= np.load('KKL366_220125_deconvolved_data.npy', mmap_mode=None, allow_pickle=False, fix_imports=True, encoding='ASCII')\n",
    "dataset_4= np.load('KKL366_220125_dff-denoised_data.npy', mmap_mode=None, allow_pickle=False, fix_imports=True, encoding='ASCII')\n",
    "dataset_5= np.load('KKL366_220126_deconvolved_data.npy', mmap_mode=None, allow_pickle=False, fix_imports=True, encoding='ASCII')\n",
    "dataset_6= np.load('KKL366_220126_dff-denoised_data.npy', mmap_mode=None, allow_pickle=False, fix_imports=True, encoding='ASCII')"
   ]
  },
  {
   "cell_type": "code",
   "execution_count": 3,
   "id": "8871cd6c",
   "metadata": {},
   "outputs": [],
   "source": [
    "labels_1= np.load('KKL366_220124_deconvolved_labels.npy', mmap_mode=None, allow_pickle=False, fix_imports=True, encoding='ASCII')\n",
    "labels_2= np.load('KKL366_220124_dff-denoised_labels.npy', mmap_mode=None, allow_pickle=False, fix_imports=True, encoding='ASCII')\n",
    "labels_3= np.load('KKL366_220125_deconvolved_labels.npy', mmap_mode=None, allow_pickle=False, fix_imports=True, encoding='ASCII')\n",
    "labels_4= np.load('KKL366_220125_dff-denoised_labels.npy', mmap_mode=None, allow_pickle=False, fix_imports=True, encoding='ASCII')\n",
    "labels_5= np.load('KKL366_220126_deconvolved_labels.npy', mmap_mode=None, allow_pickle=False, fix_imports=True, encoding='ASCII')\n",
    "labels_6= np.load('KKL366_220126_dff-denoised_labels.npy', mmap_mode=None, allow_pickle=False, fix_imports=True, encoding='ASCII')"
   ]
  },
  {
   "cell_type": "code",
   "execution_count": 4,
   "id": "83c73d31",
   "metadata": {},
   "outputs": [],
   "source": [
    "dataset_1_train, dataset_1_test, labels_1_train, labels_1_test = train_test_split(dataset_1, labels_1, test_size=0.2)\n",
    "dataset_2_train, dataset_2_test, labels_2_train, labels_2_test = train_test_split(dataset_2, labels_2, test_size=0.2)\n",
    "dataset_3_train, dataset_3_test, labels_3_train, labels_3_test = train_test_split(dataset_3, labels_3, test_size=0.2)\n",
    "dataset_4_train, dataset_4_test, labels_4_train, labels_4_test = train_test_split(dataset_4, labels_4, test_size=0.2)\n",
    "dataset_5_train, dataset_5_test, labels_5_train, labels_5_test = train_test_split(dataset_5, labels_5, test_size=0.2)\n",
    "dataset_6_train, dataset_6_test, labels_6_train, labels_6_test = train_test_split(dataset_6, labels_6, test_size=0.2)"
   ]
  },
  {
   "cell_type": "code",
   "execution_count": 5,
   "id": "19183cf9",
   "metadata": {},
   "outputs": [],
   "source": [
    "model_1 = DecisionTreeClassifier(criterion='entropy', max_depth=1)\n",
    "model_2 = DecisionTreeClassifier(criterion='entropy', max_depth=1)\n",
    "model_3 = DecisionTreeClassifier(criterion='entropy', max_depth=1)\n",
    "model_4 = DecisionTreeClassifier(criterion='entropy', max_depth=1)\n",
    "model_5 = DecisionTreeClassifier(criterion='entropy', max_depth=1)\n",
    "model_6 = DecisionTreeClassifier(criterion='entropy', max_depth=1)\n",
    "\n",
    "AdaBoost_1 = AdaBoostClassifier(base_estimator=model_1, n_estimators=500, learning_rate=1)\n",
    "AdaBoost_2 = AdaBoostClassifier(base_estimator=model_2, n_estimators=500, learning_rate=1)\n",
    "AdaBoost_3 = AdaBoostClassifier(base_estimator=model_3, n_estimators=500, learning_rate=1)\n",
    "AdaBoost_4 = AdaBoostClassifier(base_estimator=model_4, n_estimators=500, learning_rate=1)\n",
    "AdaBoost_5 = AdaBoostClassifier(base_estimator=model_5, n_estimators=500, learning_rate=1)\n",
    "AdaBoost_6 = AdaBoostClassifier(base_estimator=model_6, n_estimators=500, learning_rate=1)"
   ]
  },
  {
   "cell_type": "code",
   "execution_count": 9,
   "id": "3b4a2157",
   "metadata": {},
   "outputs": [],
   "source": [
    "dataset_1_train_reduced=np.max(dataset_1_train, axis=2)\n",
    "dataset_1_test_reduced=np.max(dataset_1_test, axis=2)\n",
    "\n",
    "dataset_2_train_reduced=np.max(dataset_2_train, axis=2)\n",
    "dataset_2_test_reduced=np.max(dataset_2_test, axis=2)\n",
    "\n",
    "dataset_3_train_reduced=np.max(dataset_3_train, axis=2)\n",
    "dataset_3_test_reduced=np.max(dataset_3_test, axis=2)\n",
    "\n",
    "dataset_4_train_reduced=np.max(dataset_4_train, axis=2)\n",
    "dataset_4_test_reduced=np.max(dataset_4_test, axis=2)\n",
    "\n",
    "dataset_5_train_reduced=np.max(dataset_5_train, axis=2)\n",
    "dataset_5_test_reduced=np.max(dataset_5_test, axis=2)\n",
    "\n",
    "dataset_6_train_reduced=np.max(dataset_6_train, axis=2)\n",
    "dataset_6_test_reduced=np.max(dataset_6_test, axis=2)"
   ]
  },
  {
   "cell_type": "code",
   "execution_count": 10,
   "id": "b3d912b8",
   "metadata": {},
   "outputs": [],
   "source": [
    "#Fit the model with training data\n",
    "boostmodel_1 = AdaBoost_1.fit(dataset_1_train_reduced, labels_1_train)\n",
    "boostmodel_2 = AdaBoost_2.fit(dataset_2_train_reduced, labels_2_train)\n",
    "boostmodel_3 = AdaBoost_3.fit(dataset_3_train_reduced, labels_3_train)\n",
    "boostmodel_4 = AdaBoost_4.fit(dataset_4_train_reduced, labels_4_train)\n",
    "boostmodel_5 = AdaBoost_5.fit(dataset_5_train_reduced, labels_5_train)\n",
    "boostmodel_6 = AdaBoost_6.fit(dataset_6_train_reduced, labels_6_train)"
   ]
  },
  {
   "cell_type": "code",
   "execution_count": 11,
   "id": "b0a36c82",
   "metadata": {},
   "outputs": [],
   "source": [
    "#Evaluate the accuracy of the model\n",
    "labels_1_pred = boostmodel_1.predict(dataset_1_test_reduced)\n",
    "predictions_1 = metrics.accuracy_score(labels_1_test, labels_1_pred)\n",
    "\n",
    "labels_2_pred = boostmodel_2.predict(dataset_2_test_reduced)\n",
    "predictions_2 = metrics.accuracy_score(labels_2_test, labels_2_pred)\n",
    "\n",
    "labels_3_pred = boostmodel_3.predict(dataset_3_test_reduced)\n",
    "predictions_3 = metrics.accuracy_score(labels_3_test, labels_3_pred)\n",
    "\n",
    "labels_4_pred = boostmodel_4.predict(dataset_4_test_reduced)\n",
    "predictions_4 = metrics.accuracy_score(labels_4_test, labels_4_pred)\n",
    "\n",
    "labels_5_pred = boostmodel_5.predict(dataset_5_test_reduced)\n",
    "predictions_5 = metrics.accuracy_score(labels_5_test, labels_5_pred)\n",
    "\n",
    "labels_6_pred = boostmodel.predict(dataset_6_test_reduced)\n",
    "predictions_6 = metrics.accuracy_score(labels_6_test, labels_6_pred)\n"
   ]
  },
  {
   "cell_type": "code",
   "execution_count": 12,
   "id": "4dd2080b",
   "metadata": {},
   "outputs": [
    {
     "name": "stdout",
     "output_type": "stream",
     "text": [
      "The accuracy for session 220124_deconvolved data is:  100.0 %\n",
      "The accuracy for session 220124_dff_denoised data is:  95.578231292517 %\n",
      "The accuracy for session 220125_deconvolved data is:  100.0 %\n",
      "The accuracy for session 220125_dff_denoised data is:  97.61904761904762 %\n",
      "The accuracy for session 220126_deconvolved data is:  90.47619047619048 %\n",
      "The accuracy for session 220126_dff_denoised data is:  94.72789115646259 %\n"
     ]
    }
   ],
   "source": [
    "#Calculating the accuracy in percentage\n",
    "print('The accuracy for session 220124_deconvolved data is: ', predictions_1 * 100, '%')\n",
    "print('The accuracy for session 220124_dff_denoised data is: ', predictions_2 * 100, '%')\n",
    "print('The accuracy for session 220125_deconvolved data is: ', predictions_3 * 100, '%')\n",
    "print('The accuracy for session 220125_dff_denoised data is: ', predictions_4 * 100, '%')\n",
    "print('The accuracy for session 220126_deconvolved data is: ', predictions_5 * 100, '%')\n",
    "print('The accuracy for session 220126_dff_denoised data is: ', predictions_6 * 100, '%')"
   ]
  },
  {
   "cell_type": "code",
   "execution_count": null,
   "id": "fd4c1984",
   "metadata": {},
   "outputs": [],
   "source": []
  }
 ],
 "metadata": {
  "kernelspec": {
   "display_name": "Python 3 (ipykernel)",
   "language": "python",
   "name": "python3"
  },
  "language_info": {
   "codemirror_mode": {
    "name": "ipython",
    "version": 3
   },
   "file_extension": ".py",
   "mimetype": "text/x-python",
   "name": "python",
   "nbconvert_exporter": "python",
   "pygments_lexer": "ipython3",
   "version": "3.8.8"
  }
 },
 "nbformat": 4,
 "nbformat_minor": 5
}
